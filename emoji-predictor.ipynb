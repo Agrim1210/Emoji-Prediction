{
 "cells": [
  {
   "cell_type": "markdown",
   "source": [
    "# Emoji Prediction"
   ],
   "metadata": {}
  },
  {
   "cell_type": "code",
   "execution_count": 1,
   "source": [
    "import emoji"
   ],
   "outputs": [],
   "metadata": {}
  },
  {
   "cell_type": "code",
   "execution_count": 2,
   "source": [
    "# emoji.EMOJI_UNICODE"
   ],
   "outputs": [],
   "metadata": {}
  },
  {
   "cell_type": "markdown",
   "source": [
    "## Using Emojis That we need"
   ],
   "metadata": {}
  },
  {
   "cell_type": "code",
   "execution_count": 3,
   "source": [
    "# emoji_dictionary = {\"0\": \"\\u2764\\uFE0F\",    # :heart: prints a black instead of red heart depending on the font\r\n",
    "#                     \"1\": \":baseball:\",\r\n",
    "#                     \"2\": \":grinning_face_with_big_eyes:\",\r\n",
    "#                     \"3\": \":disappointed_face:\",\r\n",
    "#                     \"4\": \":fork_and_knife:\",\r\n",
    "#                     \"5\": \":hundred_points:\",\r\n",
    "#                     \"6\": \":fire:\",\r\n",
    "#                     \"7\": \":face_blowing_a_kiss:\",\r\n",
    "#                     \"8\": \":chestnut:\",\r\n",
    "#                     \"9\":\":flexed_biceps:\"}\r\n",
    "emoji_dictionary = {\"0\": \"\\u2764\\uFE0F\",    # :heart: prints a black instead of red heart depending on the font\r\n",
    "                    \"1\": \":baseball:\",\r\n",
    "                    \"2\": \":beaming_face_with_smiling_eyes:\",\r\n",
    "                    \"3\": \":downcast_face_with_sweat:\",\r\n",
    "                    \"4\": \":fork_and_knife:\",\r\n",
    "                   }\r\n"
   ],
   "outputs": [],
   "metadata": {}
  },
  {
   "cell_type": "code",
   "execution_count": 4,
   "source": [
    "emoji.emojize(':fire:')"
   ],
   "outputs": [
    {
     "output_type": "execute_result",
     "data": {
      "text/plain": [
       "'🔥'"
      ]
     },
     "metadata": {},
     "execution_count": 4
    }
   ],
   "metadata": {}
  },
  {
   "cell_type": "code",
   "execution_count": 5,
   "source": [
    "for e in emoji_dictionary.values():\r\n",
    "    print(emoji.emojize(e))"
   ],
   "outputs": [
    {
     "output_type": "stream",
     "name": "stdout",
     "text": [
      "❤️\n",
      "⚾\n",
      "😁\n",
      "😓\n",
      "🍴\n"
     ]
    }
   ],
   "metadata": {}
  },
  {
   "cell_type": "markdown",
   "source": [
    "## Process Custom Dataset"
   ],
   "metadata": {}
  },
  {
   "cell_type": "code",
   "execution_count": 6,
   "source": [
    "import pandas as pd\r\n",
    "import numpy as np"
   ],
   "outputs": [],
   "metadata": {}
  },
  {
   "cell_type": "code",
   "execution_count": 7,
   "source": [
    "train=pd.read_csv('train_emoji.csv',header=None)\r\n",
    "test=pd.read_csv('test_emoji.csv',header=None)\r\n",
    "train.head()"
   ],
   "outputs": [
    {
     "output_type": "execute_result",
     "data": {
      "text/html": [
       "<div>\n",
       "<style scoped>\n",
       "    .dataframe tbody tr th:only-of-type {\n",
       "        vertical-align: middle;\n",
       "    }\n",
       "\n",
       "    .dataframe tbody tr th {\n",
       "        vertical-align: top;\n",
       "    }\n",
       "\n",
       "    .dataframe thead th {\n",
       "        text-align: right;\n",
       "    }\n",
       "</style>\n",
       "<table border=\"1\" class=\"dataframe\">\n",
       "  <thead>\n",
       "    <tr style=\"text-align: right;\">\n",
       "      <th></th>\n",
       "      <th>0</th>\n",
       "      <th>1</th>\n",
       "      <th>2</th>\n",
       "      <th>3</th>\n",
       "    </tr>\n",
       "  </thead>\n",
       "  <tbody>\n",
       "    <tr>\n",
       "      <th>0</th>\n",
       "      <td>never talk to me again</td>\n",
       "      <td>3</td>\n",
       "      <td>NaN</td>\n",
       "      <td>NaN</td>\n",
       "    </tr>\n",
       "    <tr>\n",
       "      <th>1</th>\n",
       "      <td>I am proud of your achievements</td>\n",
       "      <td>2</td>\n",
       "      <td>NaN</td>\n",
       "      <td>NaN</td>\n",
       "    </tr>\n",
       "    <tr>\n",
       "      <th>2</th>\n",
       "      <td>It is the worst day in my life</td>\n",
       "      <td>3</td>\n",
       "      <td>NaN</td>\n",
       "      <td>NaN</td>\n",
       "    </tr>\n",
       "    <tr>\n",
       "      <th>3</th>\n",
       "      <td>Miss you so much</td>\n",
       "      <td>0</td>\n",
       "      <td>NaN</td>\n",
       "      <td>[0]</td>\n",
       "    </tr>\n",
       "    <tr>\n",
       "      <th>4</th>\n",
       "      <td>food is life</td>\n",
       "      <td>4</td>\n",
       "      <td>NaN</td>\n",
       "      <td>NaN</td>\n",
       "    </tr>\n",
       "  </tbody>\n",
       "</table>\n",
       "</div>"
      ],
      "text/plain": [
       "                                 0  1   2     3\n",
       "0           never talk to me again  3 NaN   NaN\n",
       "1  I am proud of your achievements  2 NaN   NaN\n",
       "2   It is the worst day in my life  3 NaN   NaN\n",
       "3                 Miss you so much  0 NaN   [0]\n",
       "4                     food is life  4 NaN   NaN"
      ]
     },
     "metadata": {},
     "execution_count": 7
    }
   ],
   "metadata": {}
  },
  {
   "cell_type": "code",
   "execution_count": 8,
   "source": [
    "# Print the sentebces with emojis\r\n",
    "data=train.values\r\n",
    "print(data.shape)"
   ],
   "outputs": [
    {
     "output_type": "stream",
     "name": "stdout",
     "text": [
      "(132, 4)\n"
     ]
    }
   ],
   "metadata": {}
  },
  {
   "cell_type": "code",
   "execution_count": 9,
   "source": [
    "X_train=train[0]\r\n",
    "y_train=train[1]\r\n",
    "\r\n",
    "X_test=test[0]\r\n",
    "y_test=test[1]"
   ],
   "outputs": [],
   "metadata": {}
  },
  {
   "cell_type": "code",
   "execution_count": 10,
   "source": [
    "for i in range(5):\r\n",
    "    print(X_train[i],emoji.emojize(emoji_dictionary[str(y_train[i])]))"
   ],
   "outputs": [
    {
     "output_type": "stream",
     "name": "stdout",
     "text": [
      "never talk to me again 😓\n",
      "I am proud of your achievements 😁\n",
      "It is the worst day in my life 😓\n",
      "Miss you so much ❤️\n",
      "food is life 🍴\n"
     ]
    }
   ],
   "metadata": {}
  },
  {
   "cell_type": "markdown",
   "source": [
    "## Converting Sentences into Embeddings"
   ],
   "metadata": {}
  },
  {
   "cell_type": "code",
   "execution_count": 11,
   "source": [
    "f=open('glove.6B.50d.txt',encoding='utf8')\r\n"
   ],
   "outputs": [],
   "metadata": {}
  },
  {
   "cell_type": "code",
   "execution_count": 12,
   "source": [
    "embeddings_index={}\r\n",
    "\r\n",
    "for line in f:\r\n",
    "    values=line.split()\r\n",
    "    word=values[0]\r\n",
    "    coeff=np.asarray(values[1:],dtype='float')\r\n",
    "    embeddings_index[word]=coeff\r\n",
    "f.close()\r\n",
    "  \r\n"
   ],
   "outputs": [],
   "metadata": {}
  },
  {
   "cell_type": "code",
   "execution_count": 13,
   "source": [
    "emb_dim=embeddings_index['eat'].shape[0]\r\n",
    "print(emb_dim)"
   ],
   "outputs": [
    {
     "output_type": "stream",
     "name": "stdout",
     "text": [
      "50\n"
     ]
    }
   ],
   "metadata": {}
  },
  {
   "cell_type": "markdown",
   "source": [
    "## Converting sentences into vectors (Embedding Layer Output)"
   ],
   "metadata": {}
  },
  {
   "cell_type": "code",
   "execution_count": 14,
   "source": [
    "def embedding_output(X):\r\n",
    "    max_len = 10\r\n",
    "    embedding_out = np.zeros((X.shape[0], max_len, emb_dim))\r\n",
    "    for ix in range(X.shape[0]):\r\n",
    "        X[ix] = X[ix].split()\r\n",
    "        for ij in range(len(X[ix])):\r\n",
    "            # Go to every word in the current(ix) sentence\r\n",
    "            try:\r\n",
    "                embedding_out[ix][ij] = embeddings_index[X[ix][ij].lower()]\r\n",
    "            except:\r\n",
    "                embedding_out[ix][ij] = np.zeros((50,))\r\n",
    "    return embedding_out\r\n",
    "\r\n",
    "embeddings_matrix_train=embedding_output(X_train)\r\n",
    "embeddings_matrix_test=embedding_output(X_test)\r\n"
   ],
   "outputs": [
    {
     "output_type": "stream",
     "name": "stderr",
     "text": [
      "<ipython-input-14-6c21e55cac3b>:5: SettingWithCopyWarning: \n",
      "A value is trying to be set on a copy of a slice from a DataFrame\n",
      "\n",
      "See the caveats in the documentation: https://pandas.pydata.org/pandas-docs/stable/user_guide/indexing.html#returning-a-view-versus-a-copy\n",
      "  X[ix] = X[ix].split()\n"
     ]
    }
   ],
   "metadata": {}
  },
  {
   "cell_type": "code",
   "execution_count": 15,
   "source": [
    "print(X_train[0])\r\n",
    "print(len(X_train[0]))"
   ],
   "outputs": [
    {
     "output_type": "stream",
     "name": "stdout",
     "text": [
      "['never', 'talk', 'to', 'me', 'again']\n",
      "5\n"
     ]
    }
   ],
   "metadata": {}
  },
  {
   "cell_type": "code",
   "execution_count": 16,
   "source": [
    "print(embeddings_matrix_train.shape) # 132 sentences, maximum word in one sentence 10, each word dim 50 \r\n",
    "print(embeddings_matrix_test.shape)  # 56 sentences, maximum word in one sentence 10, each word dim 50 \r\n"
   ],
   "outputs": [
    {
     "output_type": "stream",
     "name": "stdout",
     "text": [
      "(132, 10, 50)\n",
      "(56, 10, 50)\n"
     ]
    }
   ],
   "metadata": {}
  },
  {
   "cell_type": "markdown",
   "source": [
    "### One Hot vector"
   ],
   "metadata": {}
  },
  {
   "cell_type": "code",
   "execution_count": 17,
   "source": [
    "from tensorflow.keras.utils import to_categorical\r\n",
    "print(y_train.shape,y_test.shape)\r\n",
    "y_train=to_categorical(y_train,num_classes=5)\r\n",
    "y_test=to_categorical(y_test,num_classes=5)\r\n",
    "print(y_train.shape,y_test.shape)"
   ],
   "outputs": [
    {
     "output_type": "stream",
     "name": "stdout",
     "text": [
      "(132,) (56,)\n",
      "(132, 5) (56, 5)\n"
     ]
    }
   ],
   "metadata": {}
  },
  {
   "cell_type": "markdown",
   "source": [
    "## RNN/LSTM Model"
   ],
   "metadata": {}
  },
  {
   "cell_type": "code",
   "execution_count": 18,
   "source": [
    "from keras.layers import *\r\n",
    "from keras.models import Sequential"
   ],
   "outputs": [],
   "metadata": {}
  },
  {
   "cell_type": "code",
   "execution_count": 51,
   "source": [
    "model=Sequential()\r\n",
    "model.add(LSTM(64,input_shape=(10,50),return_sequences=True))# Stacking of LSTM layer done\r\n",
    "model.add(Dropout(0.5))\r\n",
    "model.add(LSTM(64,input_shape=(10,50),return_sequences=False)) \r\n",
    "model.add(Dropout(0.5))\r\n",
    "model.add(Dense(5))\r\n",
    "model.add(Activation('softmax'))\r\n",
    "model.compile(loss='categorical_crossentropy',optimizer='adam',metrics=['accuracy'])\r\n",
    "model.summary()\r\n"
   ],
   "outputs": [
    {
     "output_type": "stream",
     "name": "stdout",
     "text": [
      "Model: \"sequential_5\"\n",
      "_________________________________________________________________\n",
      "Layer (type)                 Output Shape              Param #   \n",
      "=================================================================\n",
      "lstm_6 (LSTM)                (None, 10, 64)            29440     \n",
      "_________________________________________________________________\n",
      "dropout_6 (Dropout)          (None, 10, 64)            0         \n",
      "_________________________________________________________________\n",
      "lstm_7 (LSTM)                (None, 64)                33024     \n",
      "_________________________________________________________________\n",
      "dropout_7 (Dropout)          (None, 64)                0         \n",
      "_________________________________________________________________\n",
      "dense_5 (Dense)              (None, 5)                 325       \n",
      "_________________________________________________________________\n",
      "activation_5 (Activation)    (None, 5)                 0         \n",
      "=================================================================\n",
      "Total params: 62,789\n",
      "Trainable params: 62,789\n",
      "Non-trainable params: 0\n",
      "_________________________________________________________________\n"
     ]
    }
   ],
   "metadata": {}
  },
  {
   "cell_type": "code",
   "execution_count": 52,
   "source": [
    "from keras.callbacks import EarlyStopping,ModelCheckpoint\r\n",
    "checkpoint=ModelCheckpoint('best_model.h5',monitor='val_loss',verbose=True,save_best_only=True)\r\n",
    "early_stop=EarlyStopping(patience=45,monitor='val_loss')\r\n",
    "\r\n",
    "hist=model.fit(embeddings_matrix_train,y_train,epochs=100,batch_size=64,shuffle=True,validation_split=0.2,callbacks=[early_stop,checkpoint])"
   ],
   "outputs": [
    {
     "output_type": "stream",
     "name": "stdout",
     "text": [
      "Epoch 1/100\n",
      "2/2 [==============================] - 14s 3s/step - loss: 1.6241 - accuracy: 0.1429 - val_loss: 1.6034 - val_accuracy: 0.1481\n",
      "\n",
      "Epoch 00001: val_loss improved from inf to 1.60343, saving model to best_model.h5\n",
      "Epoch 2/100\n",
      "2/2 [==============================] - 0s 123ms/step - loss: 1.5630 - accuracy: 0.2571 - val_loss: 1.6199 - val_accuracy: 0.2222\n",
      "\n",
      "Epoch 00002: val_loss did not improve from 1.60343\n",
      "Epoch 3/100\n",
      "2/2 [==============================] - 0s 79ms/step - loss: 1.5249 - accuracy: 0.2857 - val_loss: 1.6494 - val_accuracy: 0.2222\n",
      "\n",
      "Epoch 00003: val_loss did not improve from 1.60343\n",
      "Epoch 4/100\n",
      "2/2 [==============================] - 0s 70ms/step - loss: 1.4886 - accuracy: 0.2952 - val_loss: 1.6951 - val_accuracy: 0.2222\n",
      "\n",
      "Epoch 00004: val_loss did not improve from 1.60343\n",
      "Epoch 5/100\n",
      "2/2 [==============================] - 0s 94ms/step - loss: 1.4852 - accuracy: 0.3238 - val_loss: 1.7299 - val_accuracy: 0.2222\n",
      "\n",
      "Epoch 00005: val_loss did not improve from 1.60343\n",
      "Epoch 6/100\n",
      "2/2 [==============================] - 0s 86ms/step - loss: 1.4885 - accuracy: 0.2952 - val_loss: 1.7382 - val_accuracy: 0.2222\n",
      "\n",
      "Epoch 00006: val_loss did not improve from 1.60343\n",
      "Epoch 7/100\n",
      "2/2 [==============================] - 0s 86ms/step - loss: 1.4530 - accuracy: 0.3333 - val_loss: 1.7358 - val_accuracy: 0.2222\n",
      "\n",
      "Epoch 00007: val_loss did not improve from 1.60343\n",
      "Epoch 8/100\n",
      "2/2 [==============================] - 0s 100ms/step - loss: 1.4544 - accuracy: 0.3048 - val_loss: 1.7129 - val_accuracy: 0.2222\n",
      "\n",
      "Epoch 00008: val_loss did not improve from 1.60343\n",
      "Epoch 9/100\n",
      "2/2 [==============================] - 0s 84ms/step - loss: 1.4232 - accuracy: 0.3619 - val_loss: 1.6740 - val_accuracy: 0.2222\n",
      "\n",
      "Epoch 00009: val_loss did not improve from 1.60343\n",
      "Epoch 10/100\n",
      "2/2 [==============================] - 0s 98ms/step - loss: 1.3987 - accuracy: 0.3810 - val_loss: 1.6305 - val_accuracy: 0.2222\n",
      "\n",
      "Epoch 00010: val_loss did not improve from 1.60343\n",
      "Epoch 11/100\n",
      "2/2 [==============================] - 0s 83ms/step - loss: 1.3658 - accuracy: 0.4762 - val_loss: 1.5877 - val_accuracy: 0.2963\n",
      "\n",
      "Epoch 00011: val_loss improved from 1.60343 to 1.58767, saving model to best_model.h5\n",
      "Epoch 12/100\n",
      "2/2 [==============================] - 0s 102ms/step - loss: 1.3567 - accuracy: 0.4857 - val_loss: 1.5473 - val_accuracy: 0.2593\n",
      "\n",
      "Epoch 00012: val_loss improved from 1.58767 to 1.54728, saving model to best_model.h5\n",
      "Epoch 13/100\n",
      "2/2 [==============================] - 0s 86ms/step - loss: 1.3142 - accuracy: 0.5429 - val_loss: 1.5096 - val_accuracy: 0.3333\n",
      "\n",
      "Epoch 00013: val_loss improved from 1.54728 to 1.50962, saving model to best_model.h5\n",
      "Epoch 14/100\n",
      "2/2 [==============================] - 0s 115ms/step - loss: 1.2951 - accuracy: 0.4762 - val_loss: 1.4819 - val_accuracy: 0.3333\n",
      "\n",
      "Epoch 00014: val_loss improved from 1.50962 to 1.48186, saving model to best_model.h5\n",
      "Epoch 15/100\n",
      "2/2 [==============================] - 0s 107ms/step - loss: 1.2081 - accuracy: 0.6095 - val_loss: 1.4665 - val_accuracy: 0.3704\n",
      "\n",
      "Epoch 00015: val_loss improved from 1.48186 to 1.46647, saving model to best_model.h5\n",
      "Epoch 16/100\n",
      "2/2 [==============================] - 0s 101ms/step - loss: 1.1994 - accuracy: 0.5143 - val_loss: 1.4226 - val_accuracy: 0.4074\n",
      "\n",
      "Epoch 00016: val_loss improved from 1.46647 to 1.42256, saving model to best_model.h5\n",
      "Epoch 17/100\n",
      "2/2 [==============================] - 0s 79ms/step - loss: 1.1414 - accuracy: 0.5810 - val_loss: 1.3534 - val_accuracy: 0.4444\n",
      "\n",
      "Epoch 00017: val_loss improved from 1.42256 to 1.35336, saving model to best_model.h5\n",
      "Epoch 18/100\n",
      "2/2 [==============================] - 0s 74ms/step - loss: 1.0543 - accuracy: 0.6476 - val_loss: 1.3452 - val_accuracy: 0.4444\n",
      "\n",
      "Epoch 00018: val_loss improved from 1.35336 to 1.34525, saving model to best_model.h5\n",
      "Epoch 19/100\n",
      "2/2 [==============================] - 0s 100ms/step - loss: 1.0047 - accuracy: 0.6762 - val_loss: 1.3434 - val_accuracy: 0.4074\n",
      "\n",
      "Epoch 00019: val_loss improved from 1.34525 to 1.34344, saving model to best_model.h5\n",
      "Epoch 20/100\n",
      "2/2 [==============================] - 0s 84ms/step - loss: 0.9521 - accuracy: 0.6000 - val_loss: 1.3329 - val_accuracy: 0.4074\n",
      "\n",
      "Epoch 00020: val_loss improved from 1.34344 to 1.33290, saving model to best_model.h5\n",
      "Epoch 21/100\n",
      "2/2 [==============================] - 0s 107ms/step - loss: 0.9144 - accuracy: 0.6857 - val_loss: 1.2817 - val_accuracy: 0.4074\n",
      "\n",
      "Epoch 00021: val_loss improved from 1.33290 to 1.28171, saving model to best_model.h5\n",
      "Epoch 22/100\n",
      "2/2 [==============================] - 0s 115ms/step - loss: 0.8776 - accuracy: 0.6571 - val_loss: 1.2413 - val_accuracy: 0.4444\n",
      "\n",
      "Epoch 00022: val_loss improved from 1.28171 to 1.24127, saving model to best_model.h5\n",
      "Epoch 23/100\n",
      "2/2 [==============================] - 0s 69ms/step - loss: 0.8287 - accuracy: 0.7048 - val_loss: 1.2527 - val_accuracy: 0.4815\n",
      "\n",
      "Epoch 00023: val_loss did not improve from 1.24127\n",
      "Epoch 24/100\n",
      "2/2 [==============================] - 0s 96ms/step - loss: 0.7165 - accuracy: 0.7524 - val_loss: 1.4770 - val_accuracy: 0.3704\n",
      "\n",
      "Epoch 00024: val_loss did not improve from 1.24127\n",
      "Epoch 25/100\n",
      "2/2 [==============================] - 0s 59ms/step - loss: 0.6962 - accuracy: 0.7714 - val_loss: 1.4973 - val_accuracy: 0.4815\n",
      "\n",
      "Epoch 00025: val_loss did not improve from 1.24127\n",
      "Epoch 26/100\n",
      "2/2 [==============================] - 0s 88ms/step - loss: 0.5987 - accuracy: 0.7905 - val_loss: 1.4762 - val_accuracy: 0.4815\n",
      "\n",
      "Epoch 00026: val_loss did not improve from 1.24127\n",
      "Epoch 27/100\n",
      "2/2 [==============================] - 0s 91ms/step - loss: 0.5948 - accuracy: 0.7810 - val_loss: 1.2699 - val_accuracy: 0.5185\n",
      "\n",
      "Epoch 00027: val_loss did not improve from 1.24127\n",
      "Epoch 28/100\n",
      "2/2 [==============================] - 0s 88ms/step - loss: 0.6172 - accuracy: 0.8000 - val_loss: 1.2685 - val_accuracy: 0.5185\n",
      "\n",
      "Epoch 00028: val_loss did not improve from 1.24127\n",
      "Epoch 29/100\n",
      "2/2 [==============================] - 0s 98ms/step - loss: 0.4982 - accuracy: 0.8381 - val_loss: 1.4752 - val_accuracy: 0.4815\n",
      "\n",
      "Epoch 00029: val_loss did not improve from 1.24127\n",
      "Epoch 30/100\n",
      "2/2 [==============================] - 0s 74ms/step - loss: 0.4454 - accuracy: 0.8286 - val_loss: 1.6092 - val_accuracy: 0.5926\n",
      "\n",
      "Epoch 00030: val_loss did not improve from 1.24127\n",
      "Epoch 31/100\n",
      "2/2 [==============================] - 0s 63ms/step - loss: 0.4949 - accuracy: 0.8000 - val_loss: 1.3726 - val_accuracy: 0.5185\n",
      "\n",
      "Epoch 00031: val_loss did not improve from 1.24127\n",
      "Epoch 32/100\n",
      "2/2 [==============================] - 0s 64ms/step - loss: 0.4173 - accuracy: 0.8667 - val_loss: 1.2963 - val_accuracy: 0.5185\n",
      "\n",
      "Epoch 00032: val_loss did not improve from 1.24127\n",
      "Epoch 33/100\n",
      "2/2 [==============================] - 0s 66ms/step - loss: 0.3736 - accuracy: 0.9143 - val_loss: 1.3447 - val_accuracy: 0.5926\n",
      "\n",
      "Epoch 00033: val_loss did not improve from 1.24127\n",
      "Epoch 34/100\n",
      "2/2 [==============================] - 0s 78ms/step - loss: 0.3903 - accuracy: 0.8952 - val_loss: 1.3130 - val_accuracy: 0.5926\n",
      "\n",
      "Epoch 00034: val_loss did not improve from 1.24127\n",
      "Epoch 35/100\n",
      "2/2 [==============================] - 0s 77ms/step - loss: 0.3421 - accuracy: 0.8952 - val_loss: 1.2753 - val_accuracy: 0.6296\n",
      "\n",
      "Epoch 00035: val_loss did not improve from 1.24127\n",
      "Epoch 36/100\n",
      "2/2 [==============================] - 0s 68ms/step - loss: 0.2929 - accuracy: 0.9048 - val_loss: 1.4813 - val_accuracy: 0.6296\n",
      "\n",
      "Epoch 00036: val_loss did not improve from 1.24127\n",
      "Epoch 37/100\n",
      "2/2 [==============================] - 0s 70ms/step - loss: 0.2719 - accuracy: 0.9333 - val_loss: 1.6395 - val_accuracy: 0.5926\n",
      "\n",
      "Epoch 00037: val_loss did not improve from 1.24127\n",
      "Epoch 38/100\n",
      "2/2 [==============================] - 0s 70ms/step - loss: 0.3268 - accuracy: 0.8476 - val_loss: 1.6343 - val_accuracy: 0.5556\n",
      "\n",
      "Epoch 00038: val_loss did not improve from 1.24127\n",
      "Epoch 39/100\n",
      "2/2 [==============================] - 0s 68ms/step - loss: 0.2093 - accuracy: 0.9429 - val_loss: 1.6164 - val_accuracy: 0.5556\n",
      "\n",
      "Epoch 00039: val_loss did not improve from 1.24127\n",
      "Epoch 40/100\n",
      "2/2 [==============================] - 0s 62ms/step - loss: 0.1412 - accuracy: 0.9714 - val_loss: 1.6475 - val_accuracy: 0.5926\n",
      "\n",
      "Epoch 00040: val_loss did not improve from 1.24127\n",
      "Epoch 41/100\n",
      "2/2 [==============================] - 0s 76ms/step - loss: 0.2078 - accuracy: 0.9524 - val_loss: 1.5624 - val_accuracy: 0.6296\n",
      "\n",
      "Epoch 00041: val_loss did not improve from 1.24127\n",
      "Epoch 42/100\n",
      "2/2 [==============================] - 0s 77ms/step - loss: 0.2015 - accuracy: 0.9429 - val_loss: 1.5620 - val_accuracy: 0.6296\n",
      "\n",
      "Epoch 00042: val_loss did not improve from 1.24127\n",
      "Epoch 43/100\n",
      "2/2 [==============================] - 0s 63ms/step - loss: 0.1823 - accuracy: 0.9619 - val_loss: 1.6890 - val_accuracy: 0.5926\n",
      "\n",
      "Epoch 00043: val_loss did not improve from 1.24127\n",
      "Epoch 44/100\n",
      "2/2 [==============================] - 0s 64ms/step - loss: 0.1627 - accuracy: 0.9429 - val_loss: 1.6994 - val_accuracy: 0.6296\n",
      "\n",
      "Epoch 00044: val_loss did not improve from 1.24127\n",
      "Epoch 45/100\n",
      "2/2 [==============================] - 0s 58ms/step - loss: 0.1044 - accuracy: 1.0000 - val_loss: 1.7069 - val_accuracy: 0.6296\n",
      "\n",
      "Epoch 00045: val_loss did not improve from 1.24127\n",
      "Epoch 46/100\n",
      "2/2 [==============================] - 0s 57ms/step - loss: 0.1452 - accuracy: 0.9524 - val_loss: 1.7580 - val_accuracy: 0.6296\n",
      "\n",
      "Epoch 00046: val_loss did not improve from 1.24127\n",
      "Epoch 47/100\n",
      "2/2 [==============================] - 0s 136ms/step - loss: 0.1695 - accuracy: 0.9619 - val_loss: 1.7301 - val_accuracy: 0.6296\n",
      "\n",
      "Epoch 00047: val_loss did not improve from 1.24127\n",
      "Epoch 48/100\n",
      "2/2 [==============================] - 0s 66ms/step - loss: 0.1228 - accuracy: 0.9429 - val_loss: 1.6471 - val_accuracy: 0.6667\n",
      "\n",
      "Epoch 00048: val_loss did not improve from 1.24127\n",
      "Epoch 49/100\n",
      "2/2 [==============================] - 0s 48ms/step - loss: 0.0915 - accuracy: 0.9810 - val_loss: 1.6403 - val_accuracy: 0.6667\n",
      "\n",
      "Epoch 00049: val_loss did not improve from 1.24127\n",
      "Epoch 50/100\n",
      "2/2 [==============================] - 0s 55ms/step - loss: 0.0780 - accuracy: 0.9905 - val_loss: 1.7649 - val_accuracy: 0.6667\n",
      "\n",
      "Epoch 00050: val_loss did not improve from 1.24127\n",
      "Epoch 51/100\n",
      "2/2 [==============================] - 0s 56ms/step - loss: 0.0882 - accuracy: 0.9905 - val_loss: 1.8165 - val_accuracy: 0.6667\n",
      "\n",
      "Epoch 00051: val_loss did not improve from 1.24127\n",
      "Epoch 52/100\n",
      "2/2 [==============================] - 0s 63ms/step - loss: 0.1170 - accuracy: 0.9810 - val_loss: 1.7080 - val_accuracy: 0.6296\n",
      "\n",
      "Epoch 00052: val_loss did not improve from 1.24127\n",
      "Epoch 53/100\n",
      "2/2 [==============================] - 0s 60ms/step - loss: 0.0615 - accuracy: 1.0000 - val_loss: 1.7552 - val_accuracy: 0.6667\n",
      "\n",
      "Epoch 00053: val_loss did not improve from 1.24127\n",
      "Epoch 54/100\n",
      "2/2 [==============================] - 0s 64ms/step - loss: 0.0480 - accuracy: 1.0000 - val_loss: 1.8713 - val_accuracy: 0.6667\n",
      "\n",
      "Epoch 00054: val_loss did not improve from 1.24127\n",
      "Epoch 55/100\n",
      "2/2 [==============================] - 0s 57ms/step - loss: 0.0634 - accuracy: 0.9905 - val_loss: 2.0254 - val_accuracy: 0.5926\n",
      "\n",
      "Epoch 00055: val_loss did not improve from 1.24127\n",
      "Epoch 56/100\n",
      "2/2 [==============================] - 0s 107ms/step - loss: 0.0615 - accuracy: 0.9905 - val_loss: 2.1077 - val_accuracy: 0.5926\n",
      "\n",
      "Epoch 00056: val_loss did not improve from 1.24127\n",
      "Epoch 57/100\n",
      "2/2 [==============================] - 0s 86ms/step - loss: 0.0649 - accuracy: 0.9810 - val_loss: 2.0145 - val_accuracy: 0.5926\n",
      "\n",
      "Epoch 00057: val_loss did not improve from 1.24127\n",
      "Epoch 58/100\n",
      "2/2 [==============================] - 0s 83ms/step - loss: 0.0297 - accuracy: 1.0000 - val_loss: 1.9987 - val_accuracy: 0.6667\n",
      "\n",
      "Epoch 00058: val_loss did not improve from 1.24127\n",
      "Epoch 59/100\n",
      "2/2 [==============================] - 0s 86ms/step - loss: 0.0424 - accuracy: 1.0000 - val_loss: 2.0227 - val_accuracy: 0.6667\n",
      "\n",
      "Epoch 00059: val_loss did not improve from 1.24127\n",
      "Epoch 60/100\n",
      "2/2 [==============================] - 0s 78ms/step - loss: 0.0380 - accuracy: 1.0000 - val_loss: 2.0633 - val_accuracy: 0.5926\n",
      "\n",
      "Epoch 00060: val_loss did not improve from 1.24127\n",
      "Epoch 61/100\n",
      "2/2 [==============================] - 0s 83ms/step - loss: 0.0405 - accuracy: 0.9905 - val_loss: 1.9911 - val_accuracy: 0.6296\n",
      "\n",
      "Epoch 00061: val_loss did not improve from 1.24127\n",
      "Epoch 62/100\n",
      "2/2 [==============================] - 0s 69ms/step - loss: 0.0443 - accuracy: 0.9905 - val_loss: 1.9512 - val_accuracy: 0.6667\n",
      "\n",
      "Epoch 00062: val_loss did not improve from 1.24127\n",
      "Epoch 63/100\n",
      "2/2 [==============================] - 0s 52ms/step - loss: 0.0382 - accuracy: 0.9905 - val_loss: 1.9524 - val_accuracy: 0.6296\n",
      "\n",
      "Epoch 00063: val_loss did not improve from 1.24127\n",
      "Epoch 64/100\n",
      "2/2 [==============================] - 0s 56ms/step - loss: 0.0660 - accuracy: 0.9905 - val_loss: 1.9257 - val_accuracy: 0.7037\n",
      "\n",
      "Epoch 00064: val_loss did not improve from 1.24127\n",
      "Epoch 65/100\n",
      "2/2 [==============================] - 0s 56ms/step - loss: 0.0312 - accuracy: 1.0000 - val_loss: 1.9886 - val_accuracy: 0.6296\n",
      "\n",
      "Epoch 00065: val_loss did not improve from 1.24127\n",
      "Epoch 66/100\n",
      "2/2 [==============================] - 0s 61ms/step - loss: 0.0589 - accuracy: 0.9810 - val_loss: 1.9809 - val_accuracy: 0.6667\n",
      "\n",
      "Epoch 00066: val_loss did not improve from 1.24127\n",
      "Epoch 67/100\n",
      "2/2 [==============================] - 0s 63ms/step - loss: 0.1011 - accuracy: 0.9810 - val_loss: 2.0014 - val_accuracy: 0.6296\n",
      "\n",
      "Epoch 00067: val_loss did not improve from 1.24127\n"
     ]
    }
   ],
   "metadata": {}
  },
  {
   "cell_type": "code",
   "execution_count": 53,
   "source": [
    "import matplotlib.pyplot as plt\r\n",
    "\r\n",
    "acc = hist.history['accuracy']\r\n",
    "val_acc = hist.history['val_accuracy']\r\n",
    "\r\n",
    "loss = hist.history['loss']\r\n",
    "val_loss = hist.history['val_loss']\r\n",
    "\r\n",
    "epochs = range(1,len(loss)+1)\r\n",
    "\r\n",
    "plt.title(\"Loss vs Epochs\")\r\n",
    "plt.plot(epochs,loss,label=\"Training Loss\")\r\n",
    "plt.plot(epochs,val_loss,label=\"Val Loss\")\r\n",
    "plt.legend()\r\n",
    "plt.show()\r\n",
    "\r\n",
    "\r\n",
    "\r\n",
    "plt.title(\"Accuracy vs Epochs\")\r\n",
    "plt.plot(epochs,acc,label=\"Training Acc\")\r\n",
    "plt.plot(epochs,val_acc,label=\"Val Acc\")\r\n",
    "plt.legend()\r\n",
    "plt.show()"
   ],
   "outputs": [
    {
     "output_type": "display_data",
     "data": {
      "image/png": "[encoded data removed]",
      "text/plain": [
       "<Figure size 432x288 with 1 Axes>"
      ]
     },
     "metadata": {
      "needs_background": "light"
     }
    },
    {
     "output_type": "display_data",
     "data": {
      "image/png": "[encoded data removed]",
      "text/plain": [
       "<Figure size 432x288 with 1 Axes>"
      ]
     },
     "metadata": {
      "needs_background": "light"
     }
    }
   ],
   "metadata": {}
  },
  {
   "cell_type": "code",
   "execution_count": 54,
   "source": [
    "\r\n",
    "pred=model.predict(embeddings_matrix_test) \r\n",
    "classes=np.argmax(pred,axis=1)\r\n",
    "print(classes)"
   ],
   "outputs": [
    {
     "output_type": "stream",
     "name": "stdout",
     "text": [
      "WARNING:tensorflow:6 out of the last 15 calls to <function Model.make_predict_function.<locals>.predict_function at 0x0000024282108040> triggered tf.function retracing. Tracing is expensive and the excessive number of tracings could be due to (1) creating @tf.function repeatedly in a loop, (2) passing tensors with different shapes, (3) passing Python objects instead of tensors. For (1), please define your @tf.function outside of the loop. For (2), @tf.function has experimental_relax_shapes=True option that relaxes argument shapes that can avoid unnecessary retracing. For (3), please refer to https://www.tensorflow.org/guide/function#controlling_retracing and https://www.tensorflow.org/api_docs/python/tf/function for  more details.\n",
      "[4 3 2 2 2 2 1 2 4 2 1 2 0 3 1 3 2 2 1 2 3 3 4 2 3 1 2 0 1 2 0 1 3 2 0 1 2\n",
      " 3 1 2 1 0 0 2 2 2 3 2 3 1 3 0 3 2 3 2]\n"
     ]
    }
   ],
   "metadata": {}
  },
  {
   "cell_type": "code",
   "execution_count": 55,
   "source": [
    "model.load_weights('best_model.h5')"
   ],
   "outputs": [],
   "metadata": {}
  },
  {
   "cell_type": "code",
   "execution_count": 56,
   "source": [
    "model.evaluate(embeddings_matrix_test,y_test)"
   ],
   "outputs": [
    {
     "output_type": "stream",
     "name": "stdout",
     "text": [
      "2/2 [==============================] - 0s 13ms/step - loss: 1.2147 - accuracy: 0.5000\n"
     ]
    },
    {
     "output_type": "execute_result",
     "data": {
      "text/plain": [
       "[1.214652180671692, 0.5]"
      ]
     },
     "metadata": {},
     "execution_count": 56
    }
   ],
   "metadata": {}
  },
  {
   "cell_type": "code",
   "execution_count": 58,
   "source": [
    "pred=model.predict(embeddings_matrix_test) \r\n",
    "classes=np.argmax(pred,axis=1)\r\n",
    "for i in range(30):\r\n",
    "    print(' '.join(X_train[i]))\r\n",
    "    print(emoji.emojize(emoji_dictionary[str(np.argmax(y_train[i]))])) # True \r\n",
    "    print(emoji.emojize(emoji_dictionary[str(classes[i])])) # Predicted Val"
   ],
   "outputs": [
    {
     "output_type": "stream",
     "name": "stdout",
     "text": [
      "never talk to me again\n",
      "😓\n",
      "❤️\n",
      "I am proud of your achievements\n",
      "😁\n",
      "😓\n",
      "It is the worst day in my life\n",
      "😓\n",
      "😁\n",
      "Miss you so much\n",
      "❤️\n",
      "😓\n",
      "food is life\n",
      "🍴\n",
      "😁\n",
      "I love you mum\n",
      "❤️\n",
      "😁\n",
      "Stop saying bullshit\n",
      "😓\n",
      "😓\n",
      "congratulations on your acceptance\n",
      "😁\n",
      "😁\n",
      "The assignment is too long\n",
      "😓\n",
      "😁\n",
      "I want to go play\n",
      "⚾\n",
      "😁\n",
      "she did not answer my text\n",
      "😓\n",
      "⚾\n",
      "Your stupidity has no limit\n",
      "😓\n",
      "😁\n",
      "how many points did he score\n",
      "⚾\n",
      "❤️\n",
      "my algorithm performs poorly\n",
      "😓\n",
      "😁\n",
      "I got approved\n",
      "😁\n",
      "⚾\n",
      "Stop shouting at me\n",
      "😓\n",
      "😁\n",
      "Sounds like a fun plan ha ha\n",
      "😁\n",
      "😁\n",
      "no one likes him\n",
      "😓\n",
      "😁\n",
      "the game just finished\n",
      "⚾\n",
      "😓\n",
      "I will celebrate soon\n",
      "😁\n",
      "😁\n",
      "So sad you are not coming\n",
      "😓\n",
      "❤️\n",
      "She is my dearest love\n",
      "❤️\n",
      "❤️\n",
      "Good job\n",
      "😁\n",
      "🍴\n",
      "It was funny lol\n",
      "😁\n",
      "😁\n",
      "candy is life\n",
      "😁\n",
      "❤️\n",
      "The chicago cubs won again\n",
      "⚾\n",
      "😓\n",
      "I am hungry\n",
      "🍴\n",
      "😓\n",
      "I am so excited to see you after so long\n",
      "😁\n",
      "❤️\n",
      "you did well on you exam\n",
      "😁\n",
      "⚾\n",
      "lets brunch some day\n",
      "🍴\n",
      "😁\n"
     ]
    }
   ],
   "metadata": {}
  },
  {
   "cell_type": "code",
   "execution_count": null,
   "source": [],
   "outputs": [],
   "metadata": {}
  },
  {
   "cell_type": "code",
   "execution_count": null,
   "source": [],
   "outputs": [],
   "metadata": {}
  }
 ],
 "metadata": {
  "orig_nbformat": 4,
  "language_info": {
   "name": "python",
   "version": "3.9.2",
   "mimetype": "text/x-python",
   "codemirror_mode": {
    "name": "ipython",
    "version": 3
   },
   "pygments_lexer": "ipython3",
   "nbconvert_exporter": "python",
   "file_extension": ".py"
  },
  "kernelspec": {
   "name": "python3",
   "display_name": "Python 3.9.2 64-bit"
  },
  "interpreter": {
   "hash": "247ab06e135bb35fa78c5eff31b2a9a0050dcb5fb773c2631d2a29ac689eeccb"
  }
 },
 "nbformat": 4,
 "nbformat_minor": 2
}
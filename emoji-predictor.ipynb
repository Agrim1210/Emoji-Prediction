{
 "cells": [
  {
   "cell_type": "markdown",
   "source": [
    "# Emoji Prediction"
   ],
   "metadata": {}
  },
  {
   "cell_type": "code",
   "execution_count": 1,
   "source": [
    "import emoji"
   ],
   "outputs": [],
   "metadata": {}
  },
  {
   "cell_type": "code",
   "execution_count": 2,
   "source": [
    "# emoji.EMOJI_UNICODE"
   ],
   "outputs": [],
   "metadata": {}
  },
  {
   "cell_type": "markdown",
   "source": [
    "## Using Emojis That we need"
   ],
   "metadata": {}
  },
  {
   "cell_type": "code",
   "execution_count": 3,
   "source": [
    "# emoji_dictionary = {\"0\": \"\\u2764\\uFE0F\",    # :heart: prints a black instead of red heart depending on the font\r\n",
    "#                     \"1\": \":baseball:\",\r\n",
    "#                     \"2\": \":grinning_face_with_big_eyes:\",\r\n",
    "#                     \"3\": \":disappointed_face:\",\r\n",
    "#                     \"4\": \":fork_and_knife:\",\r\n",
    "#                     \"5\": \":hundred_points:\",\r\n",
    "#                     \"6\": \":fire:\",\r\n",
    "#                     \"7\": \":face_blowing_a_kiss:\",\r\n",
    "#                     \"8\": \":chestnut:\",\r\n",
    "#                     \"9\":\":flexed_biceps:\"}\r\n",
    "emoji_dictionary = {\"0\": \"\\u2764\\uFE0F\",    # :heart: prints a black instead of red heart depending on the font\r\n",
    "                    \"1\": \":baseball:\",\r\n",
    "                    \"2\": \":beaming_face_with_smiling_eyes:\",\r\n",
    "                    \"3\": \":downcast_face_with_sweat:\",\r\n",
    "                    \"4\": \":fork_and_knife:\",\r\n",
    "                   }\r\n"
   ],
   "outputs": [],
   "metadata": {}
  },
  {
   "cell_type": "code",
   "execution_count": 4,
   "source": [
    "emoji.emojize(':fire:')"
   ],
   "outputs": [
    {
     "output_type": "execute_result",
     "data": {
      "text/plain": [
       "'🔥'"
      ]
     },
     "metadata": {},
     "execution_count": 4
    }
   ],
   "metadata": {}
  },
  {
   "cell_type": "code",
   "execution_count": 5,
   "source": [
    "for e in emoji_dictionary.values():\r\n",
    "    print(emoji.emojize(e))"
   ],
   "outputs": [
    {
     "output_type": "stream",
     "name": "stdout",
     "text": [
      "❤️\n",
      "⚾\n",
      "😁\n",
      "😓\n",
      "🍴\n"
     ]
    }
   ],
   "metadata": {}
  },
  {
   "cell_type": "markdown",
   "source": [
    "## Process Custom Dataset"
   ],
   "metadata": {}
  },
  {
   "cell_type": "code",
   "execution_count": 6,
   "source": [
    "import pandas as pd\r\n",
    "import numpy as np"
   ],
   "outputs": [],
   "metadata": {}
  },
  {
   "cell_type": "code",
   "execution_count": 7,
   "source": [
    "train=pd.read_csv('train_emoji.csv',header=None)\r\n",
    "test=pd.read_csv('test_emoji.csv',header=None)\r\n",
    "train.head()"
   ],
   "outputs": [
    {
     "output_type": "execute_result",
     "data": {
      "text/html": [
       "<div>\n",
       "<style scoped>\n",
       "    .dataframe tbody tr th:only-of-type {\n",
       "        vertical-align: middle;\n",
       "    }\n",
       "\n",
       "    .dataframe tbody tr th {\n",
       "        vertical-align: top;\n",
       "    }\n",
       "\n",
       "    .dataframe thead th {\n",
       "        text-align: right;\n",
       "    }\n",
       "</style>\n",
       "<table border=\"1\" class=\"dataframe\">\n",
       "  <thead>\n",
       "    <tr style=\"text-align: right;\">\n",
       "      <th></th>\n",
       "      <th>0</th>\n",
       "      <th>1</th>\n",
       "      <th>2</th>\n",
       "      <th>3</th>\n",
       "    </tr>\n",
       "  </thead>\n",
       "  <tbody>\n",
       "    <tr>\n",
       "      <th>0</th>\n",
       "      <td>never talk to me again</td>\n",
       "      <td>3</td>\n",
       "      <td>NaN</td>\n",
       "      <td>NaN</td>\n",
       "    </tr>\n",
       "    <tr>\n",
       "      <th>1</th>\n",
       "      <td>I am proud of your achievements</td>\n",
       "      <td>2</td>\n",
       "      <td>NaN</td>\n",
       "      <td>NaN</td>\n",
       "    </tr>\n",
       "    <tr>\n",
       "      <th>2</th>\n",
       "      <td>It is the worst day in my life</td>\n",
       "      <td>3</td>\n",
       "      <td>NaN</td>\n",
       "      <td>NaN</td>\n",
       "    </tr>\n",
       "    <tr>\n",
       "      <th>3</th>\n",
       "      <td>Miss you so much</td>\n",
       "      <td>0</td>\n",
       "      <td>NaN</td>\n",
       "      <td>[0]</td>\n",
       "    </tr>\n",
       "    <tr>\n",
       "      <th>4</th>\n",
       "      <td>food is life</td>\n",
       "      <td>4</td>\n",
       "      <td>NaN</td>\n",
       "      <td>NaN</td>\n",
       "    </tr>\n",
       "  </tbody>\n",
       "</table>\n",
       "</div>"
      ],
      "text/plain": [
       "                                 0  1   2     3\n",
       "0           never talk to me again  3 NaN   NaN\n",
       "1  I am proud of your achievements  2 NaN   NaN\n",
       "2   It is the worst day in my life  3 NaN   NaN\n",
       "3                 Miss you so much  0 NaN   [0]\n",
       "4                     food is life  4 NaN   NaN"
      ]
     },
     "metadata": {},
     "execution_count": 7
    }
   ],
   "metadata": {}
  },
  {
   "cell_type": "code",
   "execution_count": 8,
   "source": [
    "# Print the sentebces with emojis\r\n",
    "data=train.values\r\n",
    "print(data.shape)"
   ],
   "outputs": [
    {
     "output_type": "stream",
     "name": "stdout",
     "text": [
      "(132, 4)\n"
     ]
    }
   ],
   "metadata": {}
  },
  {
   "cell_type": "code",
   "execution_count": 9,
   "source": [
    "X_train=train[0]\r\n",
    "y_train=train[1]\r\n",
    "\r\n",
    "X_test=test[0]\r\n",
    "y_test=test[1]"
   ],
   "outputs": [],
   "metadata": {}
  },
  {
   "cell_type": "code",
   "execution_count": 10,
   "source": [
    "for i in range(5):\r\n",
    "    print(X_train[i],emoji.emojize(emoji_dictionary[str(y_train[i])]))"
   ],
   "outputs": [
    {
     "output_type": "stream",
     "name": "stdout",
     "text": [
      "never talk to me again 😓\n",
      "I am proud of your achievements 😁\n",
      "It is the worst day in my life 😓\n",
      "Miss you so much ❤️\n",
      "food is life 🍴\n"
     ]
    }
   ],
   "metadata": {}
  },
  {
   "cell_type": "markdown",
   "source": [
    "## Converting Sentences into Embeddings"
   ],
   "metadata": {}
  },
  {
   "cell_type": "code",
   "execution_count": 11,
   "source": [
    "f=open('glove.6B.50d.txt',encoding='utf8')\r\n"
   ],
   "outputs": [],
   "metadata": {}
  },
  {
   "cell_type": "code",
   "execution_count": 12,
   "source": [
    "embeddings_index={}\r\n",
    "\r\n",
    "for line in f:\r\n",
    "    values=line.split()\r\n",
    "    word=values[0]\r\n",
    "    coeff=np.asarray(values[1:],dtype='float')\r\n",
    "    embeddings_index[word]=coeff\r\n",
    "f.close()\r\n",
    "  \r\n"
   ],
   "outputs": [],
   "metadata": {}
  },
  {
   "cell_type": "code",
   "execution_count": 13,
   "source": [
    "emb_dim=embeddings_index['eat'].shape[0]\r\n",
    "print(emb_dim)"
   ],
   "outputs": [
    {
     "output_type": "stream",
     "name": "stdout",
     "text": [
      "50\n"
     ]
    }
   ],
   "metadata": {}
  },
  {
   "cell_type": "markdown",
   "source": [
    "## Converting sentences into vectors (Embedding Layer Output)"
   ],
   "metadata": {}
  },
  {
   "cell_type": "code",
   "execution_count": 14,
   "source": [
    "def embedding_output(X):\r\n",
    "    max_len = 10\r\n",
    "    embedding_out = np.zeros((X.shape[0], max_len, emb_dim))\r\n",
    "    for ix in range(X.shape[0]):\r\n",
    "        X[ix] = X[ix].split()\r\n",
    "        for ij in range(len(X[ix])):\r\n",
    "            # Go to every word in the current(ix) sentence\r\n",
    "            try:\r\n",
    "                embedding_out[ix][ij] = embeddings_index[X[ix][ij].lower()]\r\n",
    "            except:\r\n",
    "                embedding_out[ix][ij] = np.zeros((50,))\r\n",
    "    return embedding_out\r\n",
    "\r\n",
    "embeddings_matrix_train=embedding_output(X_train)\r\n",
    "embeddings_matrix_test=embedding_output(X_test)\r\n"
   ],
   "outputs": [
    {
     "output_type": "stream",
     "name": "stderr",
     "text": [
      "<ipython-input-14-6c21e55cac3b>:5: SettingWithCopyWarning: \n",
      "A value is trying to be set on a copy of a slice from a DataFrame\n",
      "\n",
      "See the caveats in the documentation: https://pandas.pydata.org/pandas-docs/stable/user_guide/indexing.html#returning-a-view-versus-a-copy\n",
      "  X[ix] = X[ix].split()\n"
     ]
    }
   ],
   "metadata": {}
  },
  {
   "cell_type": "code",
   "execution_count": 15,
   "source": [
    "print(X_train[0])\r\n",
    "print(len(X_train[0]))"
   ],
   "outputs": [
    {
     "output_type": "stream",
     "name": "stdout",
     "text": [
      "['never', 'talk', 'to', 'me', 'again']\n",
      "5\n"
     ]
    }
   ],
   "metadata": {}
  },
  {
   "cell_type": "code",
   "execution_count": 16,
   "source": [
    "print(embeddings_matrix_train.shape) # 132 sentences, maximum word in one sentence 10, each word dim 50 \r\n",
    "print(embeddings_matrix_test.shape)  # 56 sentences, maximum word in one sentence 10, each word dim 50 \r\n"
   ],
   "outputs": [
    {
     "output_type": "stream",
     "name": "stdout",
     "text": [
      "(132, 10, 50)\n",
      "(56, 10, 50)\n"
     ]
    }
   ],
   "metadata": {}
  },
  {
   "cell_type": "markdown",
   "source": [
    "### One Hot vector"
   ],
   "metadata": {}
  },
  {
   "cell_type": "code",
   "execution_count": 17,
   "source": [
    "from tensorflow.keras.utils import to_categorical\r\n",
    "print(y_train.shape,y_test.shape)\r\n",
    "y_train=to_categorical(y_train,num_classes=5)\r\n",
    "y_test=to_categorical(y_test,num_classes=5)\r\n",
    "print(y_train.shape,y_test.shape)"
   ],
   "outputs": [
    {
     "output_type": "stream",
     "name": "stdout",
     "text": [
      "(132,) (56,)\n",
      "(132, 5) (56, 5)\n"
     ]
    }
   ],
   "metadata": {}
  },
  {
   "cell_type": "markdown",
   "source": [
    "## RNN/LSTM Model"
   ],
   "metadata": {}
  },
  {
   "cell_type": "code",
   "execution_count": 18,
   "source": [
    "from keras.layers import *\r\n",
    "from keras.models import Sequential"
   ],
   "outputs": [],
   "metadata": {}
  },
  {
   "cell_type": "code",
   "execution_count": 39,
   "source": [
    "model=Sequential()\r\n",
    "model.add(LSTM(64,input_shape=(10,50)))\r\n",
    "model.add(Dropout(0.5))\r\n",
    "model.add(Dense(5))\r\n",
    "model.add(Activation('softmax'))\r\n",
    "model.compile(loss='categorical_crossentropy',optimizer='adam',metrics=['accuracy'])\r\n",
    "model.summary()\r\n"
   ],
   "outputs": [
    {
     "output_type": "stream",
     "name": "stdout",
     "text": [
      "Model: \"sequential_3\"\n",
      "_________________________________________________________________\n",
      "Layer (type)                 Output Shape              Param #   \n",
      "=================================================================\n",
      "lstm_3 (LSTM)                (None, 64)                29440     \n",
      "_________________________________________________________________\n",
      "dropout_3 (Dropout)          (None, 64)                0         \n",
      "_________________________________________________________________\n",
      "dense_3 (Dense)              (None, 5)                 325       \n",
      "_________________________________________________________________\n",
      "activation_3 (Activation)    (None, 5)                 0         \n",
      "=================================================================\n",
      "Total params: 29,765\n",
      "Trainable params: 29,765\n",
      "Non-trainable params: 0\n",
      "_________________________________________________________________\n"
     ]
    }
   ],
   "metadata": {}
  },
  {
   "cell_type": "code",
   "execution_count": 40,
   "source": [
    "from keras.callbacks import EarlyStopping,ModelCheckpoint\r\n",
    "checkpoint=ModelCheckpoint('best_model.h5',monitor='val_loss',verbose=True,save_best_only=True)\r\n",
    "early_stop=EarlyStopping(patience=25,monitor='val_loss')\r\n",
    "\r\n",
    "hist=model.fit(embeddings_matrix_train,y_train,epochs=100,batch_size=64,shuffle=True,validation_split=0.2,callbacks=[early_stop,checkpoint])"
   ],
   "outputs": [
    {
     "output_type": "stream",
     "name": "stdout",
     "text": [
      "Epoch 1/100\n",
      "2/2 [==============================] - 4s 737ms/step - loss: 1.6357 - accuracy: 0.1524 - val_loss: 1.5869 - val_accuracy: 0.2593\n",
      "\n",
      "Epoch 00001: val_loss improved from inf to 1.58694, saving model to best_model.h5\n",
      "Epoch 2/100\n",
      "2/2 [==============================] - 0s 71ms/step - loss: 1.5853 - accuracy: 0.2667 - val_loss: 1.5858 - val_accuracy: 0.2222\n",
      "\n",
      "Epoch 00002: val_loss improved from 1.58694 to 1.58580, saving model to best_model.h5\n",
      "Epoch 3/100\n",
      "2/2 [==============================] - 0s 63ms/step - loss: 1.5656 - accuracy: 0.2952 - val_loss: 1.5884 - val_accuracy: 0.2222\n",
      "\n",
      "Epoch 00003: val_loss did not improve from 1.58580\n",
      "Epoch 4/100\n",
      "2/2 [==============================] - 0s 54ms/step - loss: 1.5440 - accuracy: 0.3143 - val_loss: 1.5932 - val_accuracy: 0.2222\n",
      "\n",
      "Epoch 00004: val_loss did not improve from 1.58580\n",
      "Epoch 5/100\n",
      "2/2 [==============================] - 0s 59ms/step - loss: 1.5280 - accuracy: 0.3429 - val_loss: 1.6008 - val_accuracy: 0.2222\n",
      "\n",
      "Epoch 00005: val_loss did not improve from 1.58580\n",
      "Epoch 6/100\n",
      "2/2 [==============================] - 0s 61ms/step - loss: 1.4978 - accuracy: 0.3619 - val_loss: 1.6083 - val_accuracy: 0.2222\n",
      "\n",
      "Epoch 00006: val_loss did not improve from 1.58580\n",
      "Epoch 7/100\n",
      "2/2 [==============================] - 0s 53ms/step - loss: 1.4772 - accuracy: 0.3714 - val_loss: 1.6150 - val_accuracy: 0.2222\n",
      "\n",
      "Epoch 00007: val_loss did not improve from 1.58580\n",
      "Epoch 8/100\n",
      "2/2 [==============================] - 0s 52ms/step - loss: 1.4347 - accuracy: 0.3810 - val_loss: 1.6193 - val_accuracy: 0.2222\n",
      "\n",
      "Epoch 00008: val_loss did not improve from 1.58580\n",
      "Epoch 9/100\n",
      "2/2 [==============================] - 0s 84ms/step - loss: 1.4373 - accuracy: 0.4000 - val_loss: 1.6231 - val_accuracy: 0.2222\n",
      "\n",
      "Epoch 00009: val_loss did not improve from 1.58580\n",
      "Epoch 10/100\n",
      "2/2 [==============================] - 0s 92ms/step - loss: 1.4234 - accuracy: 0.4095 - val_loss: 1.6207 - val_accuracy: 0.2593\n",
      "\n",
      "Epoch 00010: val_loss did not improve from 1.58580\n",
      "Epoch 11/100\n",
      "2/2 [==============================] - 0s 46ms/step - loss: 1.4384 - accuracy: 0.3810 - val_loss: 1.6129 - val_accuracy: 0.2593\n",
      "\n",
      "Epoch 00011: val_loss did not improve from 1.58580\n",
      "Epoch 12/100\n",
      "2/2 [==============================] - 0s 45ms/step - loss: 1.3971 - accuracy: 0.4571 - val_loss: 1.5965 - val_accuracy: 0.2593\n",
      "\n",
      "Epoch 00012: val_loss did not improve from 1.58580\n",
      "Epoch 13/100\n",
      "2/2 [==============================] - 0s 62ms/step - loss: 1.3481 - accuracy: 0.5048 - val_loss: 1.5748 - val_accuracy: 0.2222\n",
      "\n",
      "Epoch 00013: val_loss improved from 1.58580 to 1.57479, saving model to best_model.h5\n",
      "Epoch 14/100\n",
      "2/2 [==============================] - 0s 55ms/step - loss: 1.3230 - accuracy: 0.5238 - val_loss: 1.5495 - val_accuracy: 0.2593\n",
      "\n",
      "Epoch 00014: val_loss improved from 1.57479 to 1.54952, saving model to best_model.h5\n",
      "Epoch 15/100\n",
      "2/2 [==============================] - 0s 53ms/step - loss: 1.2861 - accuracy: 0.5714 - val_loss: 1.5195 - val_accuracy: 0.3704\n",
      "\n",
      "Epoch 00015: val_loss improved from 1.54952 to 1.51947, saving model to best_model.h5\n",
      "Epoch 16/100\n",
      "2/2 [==============================] - 0s 111ms/step - loss: 1.2705 - accuracy: 0.6286 - val_loss: 1.4872 - val_accuracy: 0.3333\n",
      "\n",
      "Epoch 00016: val_loss improved from 1.51947 to 1.48715, saving model to best_model.h5\n",
      "Epoch 17/100\n",
      "2/2 [==============================] - 0s 116ms/step - loss: 1.2238 - accuracy: 0.6667 - val_loss: 1.4623 - val_accuracy: 0.3333\n",
      "\n",
      "Epoch 00017: val_loss improved from 1.48715 to 1.46226, saving model to best_model.h5\n",
      "Epoch 18/100\n",
      "2/2 [==============================] - 0s 115ms/step - loss: 1.1811 - accuracy: 0.6476 - val_loss: 1.4317 - val_accuracy: 0.3333\n",
      "\n",
      "Epoch 00018: val_loss improved from 1.46226 to 1.43166, saving model to best_model.h5\n",
      "Epoch 19/100\n",
      "2/2 [==============================] - 0s 101ms/step - loss: 1.1580 - accuracy: 0.5714 - val_loss: 1.3982 - val_accuracy: 0.3704\n",
      "\n",
      "Epoch 00019: val_loss improved from 1.43166 to 1.39825, saving model to best_model.h5\n",
      "Epoch 20/100\n",
      "2/2 [==============================] - 0s 59ms/step - loss: 1.0884 - accuracy: 0.6667 - val_loss: 1.3655 - val_accuracy: 0.3333\n",
      "\n",
      "Epoch 00020: val_loss improved from 1.39825 to 1.36552, saving model to best_model.h5\n",
      "Epoch 21/100\n",
      "2/2 [==============================] - 0s 64ms/step - loss: 1.0300 - accuracy: 0.7048 - val_loss: 1.3305 - val_accuracy: 0.3333\n",
      "\n",
      "Epoch 00021: val_loss improved from 1.36552 to 1.33048, saving model to best_model.h5\n",
      "Epoch 22/100\n",
      "2/2 [==============================] - 0s 63ms/step - loss: 0.9850 - accuracy: 0.6952 - val_loss: 1.2980 - val_accuracy: 0.3704\n",
      "\n",
      "Epoch 00022: val_loss improved from 1.33048 to 1.29798, saving model to best_model.h5\n",
      "Epoch 23/100\n",
      "2/2 [==============================] - 0s 62ms/step - loss: 0.9233 - accuracy: 0.7524 - val_loss: 1.2491 - val_accuracy: 0.3704\n",
      "\n",
      "Epoch 00023: val_loss improved from 1.29798 to 1.24910, saving model to best_model.h5\n",
      "Epoch 24/100\n",
      "2/2 [==============================] - 0s 75ms/step - loss: 0.8772 - accuracy: 0.7143 - val_loss: 1.2186 - val_accuracy: 0.4074\n",
      "\n",
      "Epoch 00024: val_loss improved from 1.24910 to 1.21856, saving model to best_model.h5\n",
      "Epoch 25/100\n",
      "2/2 [==============================] - 0s 63ms/step - loss: 0.8156 - accuracy: 0.7429 - val_loss: 1.1955 - val_accuracy: 0.4074\n",
      "\n",
      "Epoch 00025: val_loss improved from 1.21856 to 1.19552, saving model to best_model.h5\n",
      "Epoch 26/100\n",
      "2/2 [==============================] - 0s 71ms/step - loss: 0.7463 - accuracy: 0.7905 - val_loss: 1.1780 - val_accuracy: 0.4444\n",
      "\n",
      "Epoch 00026: val_loss improved from 1.19552 to 1.17796, saving model to best_model.h5\n",
      "Epoch 27/100\n",
      "2/2 [==============================] - 0s 74ms/step - loss: 0.6515 - accuracy: 0.8095 - val_loss: 1.1922 - val_accuracy: 0.4815\n",
      "\n",
      "Epoch 00027: val_loss did not improve from 1.17796\n",
      "Epoch 28/100\n",
      "2/2 [==============================] - 0s 64ms/step - loss: 0.6244 - accuracy: 0.8095 - val_loss: 1.1721 - val_accuracy: 0.5926\n",
      "\n",
      "Epoch 00028: val_loss improved from 1.17796 to 1.17208, saving model to best_model.h5\n",
      "Epoch 29/100\n",
      "2/2 [==============================] - 0s 67ms/step - loss: 0.5465 - accuracy: 0.8476 - val_loss: 1.1262 - val_accuracy: 0.5926\n",
      "\n",
      "Epoch 00029: val_loss improved from 1.17208 to 1.12616, saving model to best_model.h5\n",
      "Epoch 30/100\n",
      "2/2 [==============================] - 0s 64ms/step - loss: 0.4824 - accuracy: 0.8571 - val_loss: 1.1114 - val_accuracy: 0.5556\n",
      "\n",
      "Epoch 00030: val_loss improved from 1.12616 to 1.11142, saving model to best_model.h5\n",
      "Epoch 31/100\n",
      "2/2 [==============================] - 0s 76ms/step - loss: 0.5543 - accuracy: 0.7905 - val_loss: 1.0322 - val_accuracy: 0.5926\n",
      "\n",
      "Epoch 00031: val_loss improved from 1.11142 to 1.03219, saving model to best_model.h5\n",
      "Epoch 32/100\n",
      "2/2 [==============================] - 0s 65ms/step - loss: 0.4461 - accuracy: 0.8857 - val_loss: 1.0254 - val_accuracy: 0.6667\n",
      "\n",
      "Epoch 00032: val_loss improved from 1.03219 to 1.02535, saving model to best_model.h5\n",
      "Epoch 33/100\n",
      "2/2 [==============================] - 0s 76ms/step - loss: 0.4145 - accuracy: 0.8667 - val_loss: 0.9820 - val_accuracy: 0.7037\n",
      "\n",
      "Epoch 00033: val_loss improved from 1.02535 to 0.98199, saving model to best_model.h5\n",
      "Epoch 34/100\n",
      "2/2 [==============================] - 0s 69ms/step - loss: 0.4009 - accuracy: 0.8476 - val_loss: 0.9839 - val_accuracy: 0.7037\n",
      "\n",
      "Epoch 00034: val_loss did not improve from 0.98199\n",
      "Epoch 35/100\n",
      "2/2 [==============================] - 0s 65ms/step - loss: 0.4124 - accuracy: 0.8667 - val_loss: 0.9829 - val_accuracy: 0.6296\n",
      "\n",
      "Epoch 00035: val_loss did not improve from 0.98199\n",
      "Epoch 36/100\n",
      "2/2 [==============================] - 0s 50ms/step - loss: 0.3054 - accuracy: 0.9429 - val_loss: 1.0494 - val_accuracy: 0.6667\n",
      "\n",
      "Epoch 00036: val_loss did not improve from 0.98199\n",
      "Epoch 37/100\n",
      "2/2 [==============================] - 0s 62ms/step - loss: 0.2904 - accuracy: 0.9333 - val_loss: 1.0249 - val_accuracy: 0.7037\n",
      "\n",
      "Epoch 00037: val_loss did not improve from 0.98199\n",
      "Epoch 38/100\n",
      "2/2 [==============================] - 0s 56ms/step - loss: 0.2823 - accuracy: 0.9048 - val_loss: 0.9358 - val_accuracy: 0.7037\n",
      "\n",
      "Epoch 00038: val_loss improved from 0.98199 to 0.93584, saving model to best_model.h5\n",
      "Epoch 39/100\n",
      "2/2 [==============================] - 0s 62ms/step - loss: 0.2932 - accuracy: 0.9333 - val_loss: 0.9831 - val_accuracy: 0.6667\n",
      "\n",
      "Epoch 00039: val_loss did not improve from 0.93584\n",
      "Epoch 40/100\n",
      "2/2 [==============================] - 0s 60ms/step - loss: 0.2783 - accuracy: 0.9238 - val_loss: 0.9267 - val_accuracy: 0.7037\n",
      "\n",
      "Epoch 00040: val_loss improved from 0.93584 to 0.92669, saving model to best_model.h5\n",
      "Epoch 41/100\n",
      "2/2 [==============================] - 0s 58ms/step - loss: 0.2144 - accuracy: 0.9524 - val_loss: 1.0374 - val_accuracy: 0.7037\n",
      "\n",
      "Epoch 00041: val_loss did not improve from 0.92669\n",
      "Epoch 42/100\n",
      "2/2 [==============================] - 0s 62ms/step - loss: 0.1973 - accuracy: 0.9524 - val_loss: 1.0660 - val_accuracy: 0.6667\n",
      "\n",
      "Epoch 00042: val_loss did not improve from 0.92669\n",
      "Epoch 43/100\n",
      "2/2 [==============================] - 0s 44ms/step - loss: 0.1965 - accuracy: 0.9619 - val_loss: 1.1856 - val_accuracy: 0.6296\n",
      "\n",
      "Epoch 00043: val_loss did not improve from 0.92669\n",
      "Epoch 44/100\n",
      "2/2 [==============================] - 0s 47ms/step - loss: 0.2287 - accuracy: 0.9238 - val_loss: 1.1053 - val_accuracy: 0.6667\n",
      "\n",
      "Epoch 00044: val_loss did not improve from 0.92669\n",
      "Epoch 45/100\n",
      "2/2 [==============================] - 0s 48ms/step - loss: 0.1611 - accuracy: 0.9810 - val_loss: 1.1605 - val_accuracy: 0.7037\n",
      "\n",
      "Epoch 00045: val_loss did not improve from 0.92669\n",
      "Epoch 46/100\n",
      "2/2 [==============================] - 0s 56ms/step - loss: 0.1656 - accuracy: 0.9429 - val_loss: 1.1345 - val_accuracy: 0.7407\n",
      "\n",
      "Epoch 00046: val_loss did not improve from 0.92669\n",
      "Epoch 47/100\n",
      "2/2 [==============================] - 0s 64ms/step - loss: 0.1755 - accuracy: 0.9524 - val_loss: 1.2113 - val_accuracy: 0.6667\n",
      "\n",
      "Epoch 00047: val_loss did not improve from 0.92669\n",
      "Epoch 48/100\n",
      "2/2 [==============================] - 0s 63ms/step - loss: 0.1428 - accuracy: 0.9714 - val_loss: 1.2968 - val_accuracy: 0.6296\n",
      "\n",
      "Epoch 00048: val_loss did not improve from 0.92669\n",
      "Epoch 49/100\n",
      "2/2 [==============================] - 0s 64ms/step - loss: 0.1277 - accuracy: 0.9810 - val_loss: 1.3092 - val_accuracy: 0.6667\n",
      "\n",
      "Epoch 00049: val_loss did not improve from 0.92669\n",
      "Epoch 50/100\n",
      "2/2 [==============================] - 0s 56ms/step - loss: 0.1172 - accuracy: 0.9714 - val_loss: 1.3352 - val_accuracy: 0.6667\n",
      "\n",
      "Epoch 00050: val_loss did not improve from 0.92669\n",
      "Epoch 51/100\n",
      "2/2 [==============================] - 0s 52ms/step - loss: 0.1066 - accuracy: 0.9810 - val_loss: 1.3763 - val_accuracy: 0.7037\n",
      "\n",
      "Epoch 00051: val_loss did not improve from 0.92669\n",
      "Epoch 52/100\n",
      "2/2 [==============================] - 0s 50ms/step - loss: 0.1198 - accuracy: 0.9619 - val_loss: 1.3283 - val_accuracy: 0.6667\n",
      "\n",
      "Epoch 00052: val_loss did not improve from 0.92669\n",
      "Epoch 53/100\n",
      "2/2 [==============================] - 0s 46ms/step - loss: 0.0981 - accuracy: 0.9714 - val_loss: 1.3298 - val_accuracy: 0.6667\n",
      "\n",
      "Epoch 00053: val_loss did not improve from 0.92669\n",
      "Epoch 54/100\n",
      "2/2 [==============================] - 0s 53ms/step - loss: 0.1116 - accuracy: 0.9714 - val_loss: 1.3922 - val_accuracy: 0.6296\n",
      "\n",
      "Epoch 00054: val_loss did not improve from 0.92669\n",
      "Epoch 55/100\n",
      "2/2 [==============================] - 0s 55ms/step - loss: 0.0912 - accuracy: 0.9905 - val_loss: 1.3976 - val_accuracy: 0.6296\n",
      "\n",
      "Epoch 00055: val_loss did not improve from 0.92669\n",
      "Epoch 56/100\n",
      "2/2 [==============================] - 0s 53ms/step - loss: 0.1123 - accuracy: 0.9810 - val_loss: 1.2439 - val_accuracy: 0.6667\n",
      "\n",
      "Epoch 00056: val_loss did not improve from 0.92669\n",
      "Epoch 57/100\n",
      "2/2 [==============================] - 0s 53ms/step - loss: 0.0666 - accuracy: 0.9905 - val_loss: 1.2399 - val_accuracy: 0.7037\n",
      "\n",
      "Epoch 00057: val_loss did not improve from 0.92669\n",
      "Epoch 58/100\n",
      "2/2 [==============================] - 0s 59ms/step - loss: 0.1030 - accuracy: 0.9714 - val_loss: 1.2707 - val_accuracy: 0.6296\n",
      "\n",
      "Epoch 00058: val_loss did not improve from 0.92669\n",
      "Epoch 59/100\n",
      "2/2 [==============================] - 0s 60ms/step - loss: 0.0954 - accuracy: 0.9810 - val_loss: 1.5039 - val_accuracy: 0.5926\n",
      "\n",
      "Epoch 00059: val_loss did not improve from 0.92669\n",
      "Epoch 60/100\n",
      "2/2 [==============================] - 0s 54ms/step - loss: 0.1169 - accuracy: 0.9619 - val_loss: 1.2426 - val_accuracy: 0.7037\n",
      "\n",
      "Epoch 00060: val_loss did not improve from 0.92669\n",
      "Epoch 61/100\n",
      "2/2 [==============================] - 0s 55ms/step - loss: 0.0936 - accuracy: 0.9810 - val_loss: 1.2062 - val_accuracy: 0.7037\n",
      "\n",
      "Epoch 00061: val_loss did not improve from 0.92669\n",
      "Epoch 62/100\n",
      "2/2 [==============================] - 0s 53ms/step - loss: 0.0796 - accuracy: 0.9905 - val_loss: 1.2417 - val_accuracy: 0.7037\n",
      "\n",
      "Epoch 00062: val_loss did not improve from 0.92669\n",
      "Epoch 63/100\n",
      "2/2 [==============================] - 0s 55ms/step - loss: 0.0653 - accuracy: 0.9905 - val_loss: 1.6442 - val_accuracy: 0.5926\n",
      "\n",
      "Epoch 00063: val_loss did not improve from 0.92669\n",
      "Epoch 64/100\n",
      "2/2 [==============================] - 0s 55ms/step - loss: 0.0902 - accuracy: 0.9714 - val_loss: 1.6278 - val_accuracy: 0.6667\n",
      "\n",
      "Epoch 00064: val_loss did not improve from 0.92669\n",
      "Epoch 65/100\n",
      "2/2 [==============================] - 0s 55ms/step - loss: 0.0730 - accuracy: 0.9810 - val_loss: 1.4516 - val_accuracy: 0.6296\n",
      "\n",
      "Epoch 00065: val_loss did not improve from 0.92669\n"
     ]
    }
   ],
   "metadata": {}
  },
  {
   "cell_type": "code",
   "execution_count": 41,
   "source": [
    "import matplotlib.pyplot as plt\r\n",
    "\r\n",
    "acc = hist.history['accuracy']\r\n",
    "val_acc = hist.history['val_accuracy']\r\n",
    "\r\n",
    "loss = hist.history['loss']\r\n",
    "val_loss = hist.history['val_loss']\r\n",
    "\r\n",
    "epochs = range(1,len(loss)+1)\r\n",
    "\r\n",
    "plt.title(\"Loss vs Epochs\")\r\n",
    "plt.plot(epochs,loss,label=\"Training Loss\")\r\n",
    "plt.plot(epochs,val_loss,label=\"Val Loss\")\r\n",
    "plt.legend()\r\n",
    "plt.show()\r\n",
    "\r\n",
    "\r\n",
    "\r\n",
    "plt.title(\"Accuracy vs Epochs\")\r\n",
    "plt.plot(epochs,acc,label=\"Training Acc\")\r\n",
    "plt.plot(epochs,val_acc,label=\"Val Acc\")\r\n",
    "plt.legend()\r\n",
    "plt.show()"
   ],
   "outputs": [
    {
     "output_type": "display_data",
     "data": {
      "image/png": "[encoded data removed]",
      "text/plain": [
       "<Figure size 432x288 with 1 Axes>"
      ]
     },
     "metadata": {
      "needs_background": "light"
     }
    },
    {
     "output_type": "display_data",
     "data": {
      "image/png": "[encoded data removed]",
      "text/plain": [
       "<Figure size 432x288 with 1 Axes>"
      ]
     },
     "metadata": {
      "needs_background": "light"
     }
    }
   ],
   "metadata": {}
  },
  {
   "cell_type": "code",
   "execution_count": 42,
   "source": [
    "\r\n",
    "pred=model.predict(embeddings_matrix_test) \r\n",
    "classes=np.argmax(pred,axis=1)\r\n",
    "print(classes)"
   ],
   "outputs": [
    {
     "output_type": "stream",
     "name": "stdout",
     "text": [
      "[4 3 2 0 2 2 3 2 2 2 1 2 0 3 1 3 2 2 3 4 0 0 4 2 3 3 2 0 0 2 0 1 0 2 0 1 2\n",
      " 3 4 2 1 0 0 1 2 0 2 2 3 3 3 0 3 2 3 2]\n"
     ]
    }
   ],
   "metadata": {}
  },
  {
   "cell_type": "code",
   "execution_count": 43,
   "source": [
    "model.load_weights('best_model.h5')"
   ],
   "outputs": [],
   "metadata": {}
  },
  {
   "cell_type": "code",
   "execution_count": 44,
   "source": [
    "model.evaluate(embeddings_matrix_test,y_test)"
   ],
   "outputs": [
    {
     "output_type": "stream",
     "name": "stdout",
     "text": [
      "2/2 [==============================] - 0s 12ms/step - loss: 1.1659 - accuracy: 0.6607\n"
     ]
    },
    {
     "output_type": "execute_result",
     "data": {
      "text/plain": [
       "[1.16585373878479, 0.6607142686843872]"
      ]
     },
     "metadata": {},
     "execution_count": 44
    }
   ],
   "metadata": {}
  },
  {
   "cell_type": "code",
   "execution_count": null,
   "source": [],
   "outputs": [],
   "metadata": {}
  },
  {
   "cell_type": "code",
   "execution_count": null,
   "source": [],
   "outputs": [],
   "metadata": {}
  },
  {
   "cell_type": "code",
   "execution_count": null,
   "source": [],
   "outputs": [],
   "metadata": {}
  }
 ],
 "metadata": {
  "orig_nbformat": 4,
  "language_info": {
   "name": "python",
   "version": "3.9.2",
   "mimetype": "text/x-python",
   "codemirror_mode": {
    "name": "ipython",
    "version": 3
   },
   "pygments_lexer": "ipython3",
   "nbconvert_exporter": "python",
   "file_extension": ".py"
  },
  "kernelspec": {
   "name": "python3",
   "display_name": "Python 3.9.2 64-bit"
  },
  "interpreter": {
   "hash": "247ab06e135bb35fa78c5eff31b2a9a0050dcb5fb773c2631d2a29ac689eeccb"
  }
 },
 "nbformat": 4,
 "nbformat_minor": 2
}